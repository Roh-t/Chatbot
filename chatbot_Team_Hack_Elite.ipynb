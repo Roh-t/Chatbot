{
 "cells": [
  {
   "cell_type": "markdown",
   "id": "80e2572a",
   "metadata": {},
   "source": [
    "# importing the required libraries"
   ]
  },
  {
   "cell_type": "code",
   "execution_count": null,
   "id": "1425353b",
   "metadata": {},
   "outputs": [],
   "source": [
    "import numpy as np\n",
    "import nltk\n",
    "import string\n",
    "import random\n"
   ]
  },
  {
   "cell_type": "markdown",
   "id": "37b9c4a5",
   "metadata": {},
   "source": [
    "# Importing and reading the corpus"
   ]
  },
  {
   "cell_type": "code",
   "execution_count": 4,
   "id": "b828a133",
   "metadata": {},
   "outputs": [
    {
     "name": "stderr",
     "output_type": "stream",
     "text": [
      "[nltk_data] Downloading package punkt to\n",
      "[nltk_data]     C:\\Users\\rohan\\AppData\\Roaming\\nltk_data...\n",
      "[nltk_data]   Package punkt is already up-to-date!\n",
      "[nltk_data] Downloading package wordnet to\n",
      "[nltk_data]     C:\\Users\\rohan\\AppData\\Roaming\\nltk_data...\n",
      "[nltk_data]   Package wordnet is already up-to-date!\n"
     ]
    }
   ],
   "source": [
    "f= open('chatbox.txt','r',errors = 'ignore')\n",
    "raw_doc=f.read()\n",
    "raw_doc=raw_doc.lower()#Converts text to lowercase\n",
    "nltk.download('punkt')#Using the Punkt tokenizer\n",
    "nltk.download('wordnet')#Using the WordNet dictionary\n",
    "sent_tokens = nltk.sent_tokenize(raw_doc)#Converts doc to list of sentences\n",
    "word_tokens = nltk.word_tokenize(raw_doc)#Converts doc to list of words"
   ]
  },
  {
   "cell_type": "markdown",
   "id": "3e21c84b",
   "metadata": {},
   "source": [
    "# Example of sentance tokens"
   ]
  },
  {
   "cell_type": "code",
   "execution_count": 5,
   "id": "c398ffd9",
   "metadata": {},
   "outputs": [
    {
     "data": {
      "text/plain": [
       "['data science\\nfrom wikipedia, the free encyclopedia\\njump to navigationjump to search\\nnot to be confused with information science.',\n",
       " 'the existence of comet neowise (here depicted as a series of red dots) was discovered by analyzing astronomical survey data acquired by a space telescope, the wide-field infrared survey explorer.']"
      ]
     },
     "execution_count": 5,
     "metadata": {},
     "output_type": "execute_result"
    }
   ],
   "source": [
    "sent_tokens[:2]"
   ]
  },
  {
   "cell_type": "markdown",
   "id": "27bd7bed",
   "metadata": {},
   "source": [
    "# Example of word tokens"
   ]
  },
  {
   "cell_type": "code",
   "execution_count": 7,
   "id": "dc2fa075",
   "metadata": {},
   "outputs": [
    {
     "data": {
      "text/plain": [
       "['data', 'science']"
      ]
     },
     "execution_count": 7,
     "metadata": {},
     "output_type": "execute_result"
    }
   ],
   "source": [
    "word_tokens[:2]"
   ]
  },
  {
   "cell_type": "markdown",
   "id": "b9a15872",
   "metadata": {},
   "source": [
    "# Text preprocessing"
   ]
  },
  {
   "cell_type": "code",
   "execution_count": 8,
   "id": "3d201686",
   "metadata": {},
   "outputs": [],
   "source": [
    "lemmer = nltk.stem.WordNetLemmatizer()\n",
    "#WordNet is a semantically- oriented dictionary of English included in NLTK.\n",
    "def LemTokens(tokens):\n",
    "  return [lemmer.lemmatize(token)for token in tokens]\n",
    "remove_punct_dict = dict((ord(punct),None) for punct in string.punctuation)\n",
    "def LemNormalize(text):\n",
    "  return LemTokens(nltk.word_tokenize(text.lower().translate(remove_punct_dict)))\n"
   ]
  },
  {
   "cell_type": "markdown",
   "id": "50781958",
   "metadata": {},
   "source": [
    "# Defining the greeting function"
   ]
  },
  {
   "cell_type": "code",
   "execution_count": 9,
   "id": "17e62838",
   "metadata": {},
   "outputs": [],
   "source": [
    "GREET_INPUTS = (\"hello\",\"hi\",\"greetings\",\"sup\",\"what's up\",\"hey\",)\n",
    "GREET_RESPONSES = [\"hi\",\"hey\",\"*nods*\",\"hi there\",\"hello\",\"I am glad! You are talking to me\"]\n",
    "def greet(sentence):\n",
    "  for word in sentence.split():\n",
    "    if word.lower() in GREET_INPUTS:\n",
    "      return random.choice(GREET_RESPONSES)\n"
   ]
  },
  {
   "cell_type": "markdown",
   "id": "e0c07a2f",
   "metadata": {},
   "source": [
    "# Response generation"
   ]
  },
  {
   "cell_type": "code",
   "execution_count": 10,
   "id": "a9863169",
   "metadata": {},
   "outputs": [],
   "source": [
    "from sklearn.feature_extraction.text import TfidfVectorizer\n",
    "from sklearn.metrics.pairwise import cosine_similarity"
   ]
  },
  {
   "cell_type": "code",
   "execution_count": 11,
   "id": "8677c641",
   "metadata": {},
   "outputs": [],
   "source": [
    "def response(user_response):\n",
    "  robo1_response=''\n",
    "  TfidfVec = TfidfVectorizer(tokenizer=LemNormalize,stop_words='english')\n",
    "  tfidf = TfidfVec.fit_transform(sent_tokens)\n",
    "  vals = cosine_similarity(tfidf[-1],tfidf)\n",
    "  idx=vals.argsort()[0][-2]\n",
    "  flat = vals.flatten()\n",
    "  flat.sort()\n",
    "  req_tfidf = flat[-2]\n",
    "  if(req_tfidf==0):\n",
    "    robo1_response=robo1_response+\"I am sorry! I don't understand you\"\n",
    "    return robo1_response\n",
    "  else:\n",
    "    robo1_response = robo1_response+sent_tokens[idx]\n",
    "    return robo1_response"
   ]
  },
  {
   "cell_type": "markdown",
   "id": "3f138bd6",
   "metadata": {},
   "source": [
    "# Defining conversation start/end protocols"
   ]
  },
  {
   "cell_type": "code",
   "execution_count": null,
   "id": "1154664a",
   "metadata": {},
   "outputs": [
    {
     "name": "stdout",
     "output_type": "stream",
     "text": [
      "BOT:My name is Stark. Let's have a conversation! Also, if you want to exit any time, just type Bye!\n",
      "hi\n",
      "BOT:hi\n",
      "formations\n",
      "BOT:"
     ]
    },
    {
     "name": "stderr",
     "output_type": "stream",
     "text": [
      "C:\\Users\\rohan\\anaconda3\\lib\\site-packages\\sklearn\\feature_extraction\\text.py:396: UserWarning: Your stop_words may be inconsistent with your preprocessing. Tokenizing the stop words generated tokens ['ha', 'le', 'u', 'wa'] not in stop_words.\n",
      "  warnings.warn(\n"
     ]
    },
    {
     "name": "stdout",
     "output_type": "stream",
     "text": [
      "I am sorry! I don't understand you\n",
      "hi\n",
      "BOT:hello\n",
      "Data Science\n",
      "BOT:\"what is data science?\n"
     ]
    }
   ],
   "source": [
    "flag=True\n",
    "print(\"BOT:My name is Stark. Let's have a conversation! Also, if you want to exit any time, just type Bye!\")\n",
    "while(flag==True):\n",
    "  user_response = input()\n",
    "  user_response=user_response.lower()\n",
    "  if(user_response!='bye'):\n",
    "    if(user_response=='thanks'or user_response=='thank you'):\n",
    "      flag=False\n",
    "      print(\"BOT:You are welcome..\")\n",
    "    else:\n",
    "      if(greet(user_response)!=None):\n",
    "        print(\"BOT:\"+greet(user_response))\n",
    "      else:\n",
    "        sent_tokens.append(user_response)\n",
    "        word_tokens=word_tokens+nltk.word_tokenize(user_response)\n",
    "        final_words=list(set(word_tokens))\n",
    "        print(\"BOT:\",end=\"\")\n",
    "        print(response(user_response))\n",
    "        sent_tokens.remove(user_response)\n",
    "else:\n",
    "  flag=False\n",
    "  print(\"BOT: Goodbye! Take care <3\")\n"
   ]
  },
  {
   "cell_type": "code",
   "execution_count": null,
   "id": "58ece18b",
   "metadata": {},
   "outputs": [],
   "source": []
  }
 ],
 "metadata": {
  "kernelspec": {
   "display_name": "Python 3 (ipykernel)",
   "language": "python",
   "name": "python3"
  },
  "language_info": {
   "codemirror_mode": {
    "name": "ipython",
    "version": 3
   },
   "file_extension": ".py",
   "mimetype": "text/x-python",
   "name": "python",
   "nbconvert_exporter": "python",
   "pygments_lexer": "ipython3",
   "version": "3.9.12"
  }
 },
 "nbformat": 4,
 "nbformat_minor": 5
}
